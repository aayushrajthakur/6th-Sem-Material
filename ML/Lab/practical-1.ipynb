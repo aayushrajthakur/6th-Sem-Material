{
 "cells": [
  {
   "cell_type": "code",
   "execution_count": 2,
   "metadata": {},
   "outputs": [],
   "source": [
    "import statistics as st"
   ]
  },
  {
   "cell_type": "code",
   "execution_count": 4,
   "metadata": {},
   "outputs": [
    {
     "name": "stdout",
     "output_type": "stream",
     "text": [
      "Mode :  10\n",
      "Mean :  21.666666666666668\n",
      "Median :  19.5\n"
     ]
    }
   ],
   "source": [
    "a = [20,10,50,10,21,19]\n",
    "s = st.mode(a)\n",
    "print(\"Mode : \",s)\n",
    "m = st.mean(a)\n",
    "print(\"Mean : \",m)\n",
    "n = st.median(a)\n",
    "print('Median : ',n)"
   ]
  },
  {
   "cell_type": "code",
   "execution_count": 3,
   "metadata": {},
   "outputs": [
    {
     "name": "stdout",
     "output_type": "stream",
     "text": [
      "Mean :  33.5\n"
     ]
    }
   ],
   "source": [
    "a = [20,10,50,10,21,90]\n",
    "m = st.mean(a)\n",
    "print(\"Mean : \",m)"
   ]
  },
  {
   "cell_type": "code",
   "execution_count": 6,
   "metadata": {},
   "outputs": [
    {
     "name": "stdout",
     "output_type": "stream",
     "text": [
      "Median :  20.5\n"
     ]
    }
   ],
   "source": [
    "n = st.median(a)\n",
    "print('Median : ',n)"
   ]
  },
  {
   "cell_type": "code",
   "execution_count": 7,
   "metadata": {},
   "outputs": [
    {
     "name": "stdout",
     "output_type": "stream",
     "text": [
      "[[10 20 30 50 10]\n",
      " [ 1  2  3  5  6]]\n"
     ]
    }
   ],
   "source": [
    "import numpy as np\n",
    "b = np.array([[10,20,30,50,10],[1,2,3,5,6]])\n",
    "print(b)"
   ]
  },
  {
   "cell_type": "code",
   "execution_count": 8,
   "metadata": {},
   "outputs": [
    {
     "name": "stdout",
     "output_type": "stream",
     "text": [
      "Dimension :  2\n"
     ]
    }
   ],
   "source": [
    "print(\"Dimension : \",b.ndim)"
   ]
  },
  {
   "cell_type": "code",
   "execution_count": 9,
   "metadata": {},
   "outputs": [
    {
     "name": "stdout",
     "output_type": "stream",
     "text": [
      "[[10 20 30 50 10]\n",
      " [ 1  2  3  5  6]\n",
      " [ 1  1  1  1  1]]\n"
     ]
    }
   ],
   "source": [
    "b= np.array([[10,20,30,50,10],[1,2,3,5,6],[1,1,1,1,1]])\n",
    "print(b)"
   ]
  },
  {
   "cell_type": "code",
   "execution_count": 10,
   "metadata": {},
   "outputs": [
    {
     "name": "stdout",
     "output_type": "stream",
     "text": [
      "[[10 20 30 50 10]\n",
      " [ 1  2  3  5  6]\n",
      " [ 1  1  1  1  1]]\n",
      "Dimension :  2\n",
      "Shape :  (3, 5)\n",
      "Size :  15\n",
      "Item size :  4\n",
      "Data type :  int32\n"
     ]
    }
   ],
   "source": [
    "print(b)\n",
    "print(\"Dimension : \",b.ndim)\n",
    "print(\"Shape : \",b.shape)\n",
    "print(\"Size : \",b.size)\n",
    "print(\"Item size : \",b.itemsize)\n",
    "print(\"Data type : \",b.dtype)"
   ]
  },
  {
   "cell_type": "code",
   "execution_count": 12,
   "metadata": {},
   "outputs": [
    {
     "name": "stdout",
     "output_type": "stream",
     "text": [
      "[ 0  2  4  6  8 10 12 14 16 18 20 22 24 26 28 30 32 34 36 38 40 42 44 46\n",
      " 48 50 52 54 56 58 60 62 64 66 68 70 72 74 76 78 80 82 84 86 88 90 92 94\n",
      " 96 98]\n"
     ]
    }
   ],
   "source": [
    "c = np.empty((5,5))\n",
    "d = np.arange(0,100,2)\n",
    "print(d)"
   ]
  },
  {
   "cell_type": "code",
   "execution_count": 11,
   "metadata": {},
   "outputs": [
    {
     "name": "stdout",
     "output_type": "stream",
     "text": [
      "[[6.23042070e-307 4.67296746e-307 1.69121096e-306 2.22520559e-306\n",
      "  4.45058910e-308]\n",
      " [4.45059759e-308 1.20160575e-306 7.56587585e-307 1.37961302e-306\n",
      "  1.05699242e-307]\n",
      " [8.01097889e-307 1.78020169e-306 7.56601165e-307 1.02359984e-306\n",
      "  1.33510679e-306]\n",
      " [2.22522597e-306 1.33511018e-306 6.23057689e-307 1.02360120e-306\n",
      "  8.45559303e-307]\n",
      " [1.00132483e-307 1.33511562e-306 8.90103560e-307 1.42410974e-306\n",
      "  3.23796840e-317]]\n"
     ]
    }
   ],
   "source": [
    "print(c)"
   ]
  },
  {
   "cell_type": "code",
   "execution_count": 13,
   "metadata": {},
   "outputs": [
    {
     "name": "stdout",
     "output_type": "stream",
     "text": [
      "[[[ 0  2  4  6  8]\n",
      "  [10 12 14 16 18]\n",
      "  [20 22 24 26 28]\n",
      "  [30 32 34 36 38]\n",
      "  [40 42 44 46 48]]\n",
      "\n",
      " [[50 52 54 56 58]\n",
      "  [60 62 64 66 68]\n",
      "  [70 72 74 76 78]\n",
      "  [80 82 84 86 88]\n",
      "  [90 92 94 96 98]]]\n"
     ]
    }
   ],
   "source": [
    "e = np.reshape(d,(10,5))\n",
    "f = np.reshape(e,(2,5,5))\n",
    "print(f)"
   ]
  },
  {
   "cell_type": "code",
   "execution_count": 14,
   "metadata": {},
   "outputs": [
    {
     "name": "stdout",
     "output_type": "stream",
     "text": [
      "Last element :  20\n",
      "Element upto 10 :  [ 0  2  4  6  8 10 12 14 16 18]\n",
      "Last 5 element :  [90 92 94 96 98]\n",
      "Alternate number :  [ 0  4  8 12 16 20 24 28 32 36 40 44 48 52 56 60 64 68 72 76 80 84 88 92\n",
      " 96]\n"
     ]
    }
   ],
   "source": [
    "print(\"Last element : \",d[10])\n",
    "print(\"Element upto 10 : \",d[:10])\n",
    "print(\"Last 5 element : \",d[-5:])\n",
    "print(\"Alternate number : \",d[::2])"
   ]
  },
  {
   "cell_type": "code",
   "execution_count": 16,
   "metadata": {},
   "outputs": [],
   "source": [
    "import pandas as pd\n"
   ]
  },
  {
   "cell_type": "code",
   "execution_count": 19,
   "metadata": {},
   "outputs": [
    {
     "data": {
      "text/html": [
       "<div>\n",
       "<style scoped>\n",
       "    .dataframe tbody tr th:only-of-type {\n",
       "        vertical-align: middle;\n",
       "    }\n",
       "\n",
       "    .dataframe tbody tr th {\n",
       "        vertical-align: top;\n",
       "    }\n",
       "\n",
       "    .dataframe thead th {\n",
       "        text-align: right;\n",
       "    }\n",
       "</style>\n",
       "<table border=\"1\" class=\"dataframe\">\n",
       "  <thead>\n",
       "    <tr style=\"text-align: right;\">\n",
       "      <th></th>\n",
       "      <th>Pid</th>\n",
       "      <th>Product id</th>\n",
       "      <th>Product Name</th>\n",
       "      <th>Price</th>\n",
       "      <th>Vendor</th>\n",
       "    </tr>\n",
       "  </thead>\n",
       "  <tbody>\n",
       "    <tr>\n",
       "      <th>0</th>\n",
       "      <td>1</td>\n",
       "      <td>101</td>\n",
       "      <td>A</td>\n",
       "      <td>10</td>\n",
       "      <td>V1</td>\n",
       "    </tr>\n",
       "    <tr>\n",
       "      <th>1</th>\n",
       "      <td>2</td>\n",
       "      <td>102</td>\n",
       "      <td>B</td>\n",
       "      <td>20</td>\n",
       "      <td>V2</td>\n",
       "    </tr>\n",
       "    <tr>\n",
       "      <th>2</th>\n",
       "      <td>3</td>\n",
       "      <td>103</td>\n",
       "      <td>C</td>\n",
       "      <td>30</td>\n",
       "      <td>V3</td>\n",
       "    </tr>\n",
       "    <tr>\n",
       "      <th>3</th>\n",
       "      <td>4</td>\n",
       "      <td>104</td>\n",
       "      <td>D</td>\n",
       "      <td>40</td>\n",
       "      <td>V4</td>\n",
       "    </tr>\n",
       "    <tr>\n",
       "      <th>4</th>\n",
       "      <td>5</td>\n",
       "      <td>105</td>\n",
       "      <td>E</td>\n",
       "      <td>50</td>\n",
       "      <td>V5</td>\n",
       "    </tr>\n",
       "  </tbody>\n",
       "</table>\n",
       "</div>"
      ],
      "text/plain": [
       "   Pid  Product id Product Name  Price Vendor\n",
       "0    1         101            A     10     V1\n",
       "1    2         102            B     20     V2\n",
       "2    3         103            C     30     V3\n",
       "3    4         104            D     40     V4\n",
       "4    5         105            E     50     V5"
      ]
     },
     "execution_count": 19,
     "metadata": {},
     "output_type": "execute_result"
    }
   ],
   "source": [
    "my_dict = {\"Pid\": [1,2,3,4,5],\"Product id\": [101,102,103,104,105],\"Product Name\": ['A','B','C','D','E'],\"Price\": [10,20,30,40,50],\"Vendor\": ['V1','V2','V3','V4','V5']}\n",
    "res = pd.DataFrame(my_dict)\n",
    "res"
   ]
  },
  {
   "cell_type": "code",
   "execution_count": null,
   "metadata": {},
   "outputs": [],
   "source": []
  }
 ],
 "metadata": {
  "kernelspec": {
   "display_name": "base",
   "language": "python",
   "name": "python3"
  },
  "language_info": {
   "codemirror_mode": {
    "name": "ipython",
    "version": 3
   },
   "file_extension": ".py",
   "mimetype": "text/x-python",
   "name": "python",
   "nbconvert_exporter": "python",
   "pygments_lexer": "ipython3",
   "version": "3.12.7"
  }
 },
 "nbformat": 4,
 "nbformat_minor": 2
}
