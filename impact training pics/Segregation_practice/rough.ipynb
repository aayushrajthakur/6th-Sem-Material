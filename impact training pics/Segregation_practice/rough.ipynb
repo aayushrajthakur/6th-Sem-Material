{
 "cells": [
  {
   "cell_type": "code",
   "execution_count": 3,
   "metadata": {},
   "outputs": [
    {
     "name": "stdout",
     "output_type": "stream",
     "text": [
      "HIA elloworldamayush\n"
     ]
    }
   ],
   "source": [
    "words = \"Hello world I am Aayush\".split()\n",
    "capi=  []\n",
    "small = []\n",
    "for word in words:\n",
    "    for i in range(len(word)):\n",
    "        if word[i].isupper():\n",
    "            capi.append(word[i])\n",
    "        else:\n",
    "            small.append(word[i])\n",
    "res = \"\".join(capi) +\" \"+ \"\".join(small)\n",
    "print(res)\n"
   ]
  },
  {
   "cell_type": "code",
   "execution_count": 1,
   "metadata": {},
   "outputs": [
    {
     "name": "stdout",
     "output_type": "stream",
     "text": [
      "\n",
      "Menu:\n",
      "1. Add Employee\n",
      "2. Get Employee by Eno\n",
      "3. Display All Employees\n",
      "4. Exit\n"
     ]
    },
    {
     "ename": "AttributeError",
     "evalue": "'EmployeeManagement' object has no attribute 'employees'",
     "output_type": "error",
     "traceback": [
      "\u001b[1;31m---------------------------------------------------------------------------\u001b[0m",
      "\u001b[1;31mAttributeError\u001b[0m                            Traceback (most recent call last)",
      "Cell \u001b[1;32mIn[1], line 73\u001b[0m\n\u001b[0;32m     70\u001b[0m                 \u001b[38;5;28mprint\u001b[39m(\u001b[38;5;124m\"\u001b[39m\u001b[38;5;124mInvalid input. Please enter a number between 1 and 4.\u001b[39m\u001b[38;5;124m\"\u001b[39m)\n\u001b[0;32m     72\u001b[0m emp_mgmt \u001b[38;5;241m=\u001b[39m EmployeeManagement()\n\u001b[1;32m---> 73\u001b[0m emp_mgmt\u001b[38;5;241m.\u001b[39mmenu()\n",
      "Cell \u001b[1;32mIn[1], line 63\u001b[0m, in \u001b[0;36mEmployeeManagement.menu\u001b[1;34m(self)\u001b[0m\n\u001b[0;32m     61\u001b[0m     \u001b[38;5;28mself\u001b[39m\u001b[38;5;241m.\u001b[39mget_employee_by_eno()\n\u001b[0;32m     62\u001b[0m \u001b[38;5;28;01melif\u001b[39;00m choice \u001b[38;5;241m==\u001b[39m \u001b[38;5;241m3\u001b[39m:\n\u001b[1;32m---> 63\u001b[0m     \u001b[38;5;28mself\u001b[39m\u001b[38;5;241m.\u001b[39mdisplay_all_employees()\n\u001b[0;32m     64\u001b[0m \u001b[38;5;28;01melif\u001b[39;00m choice \u001b[38;5;241m==\u001b[39m \u001b[38;5;241m4\u001b[39m:\n\u001b[0;32m     65\u001b[0m     \u001b[38;5;28mprint\u001b[39m(\u001b[38;5;124m\"\u001b[39m\u001b[38;5;124mExiting program. Goodbye!\u001b[39m\u001b[38;5;124m\"\u001b[39m)\n",
      "Cell \u001b[1;32mIn[1], line 40\u001b[0m, in \u001b[0;36mEmployeeManagement.display_all_employees\u001b[1;34m(self)\u001b[0m\n\u001b[0;32m     39\u001b[0m \u001b[38;5;28;01mdef\u001b[39;00m \u001b[38;5;21mdisplay_all_employees\u001b[39m(\u001b[38;5;28mself\u001b[39m):\n\u001b[1;32m---> 40\u001b[0m     \u001b[38;5;28;01mif\u001b[39;00m \u001b[38;5;129;01mnot\u001b[39;00m \u001b[38;5;28mself\u001b[39m\u001b[38;5;241m.\u001b[39memployees:\n\u001b[0;32m     41\u001b[0m         \u001b[38;5;28mprint\u001b[39m(\u001b[38;5;124m\"\u001b[39m\u001b[38;5;124mNo employees to display.\u001b[39m\u001b[38;5;124m\"\u001b[39m)\n\u001b[0;32m     42\u001b[0m         \u001b[38;5;28;01mreturn\u001b[39;00m\n",
      "\u001b[1;31mAttributeError\u001b[0m: 'EmployeeManagement' object has no attribute 'employees'"
     ]
    }
   ],
   "source": [
    "class Employee:\n",
    "    def _init_(self, eno, ename, edesig, esalary):\n",
    "        self.eno = eno\n",
    "        self.ename = ename\n",
    "        self.edesig = edesig\n",
    "        self.esalary = esalary\n",
    "        \n",
    "class EmployeeManagement:\n",
    "    def _init_(self):\n",
    "        self.employees = {}\n",
    "\n",
    "    def add_employee(self):\n",
    "        try:\n",
    "            eno = int(input(\"Enter Employee Number: \"))\n",
    "            if eno in self.employees:\n",
    "                print(\"Employee number already exists.\")\n",
    "                return\n",
    "\n",
    "            ename = input(\"Enter Employee Name: \")\n",
    "            edesig = input(\"Enter Employee Designation: \")\n",
    "            esalary = float(input(\"Enter Employee Salary: \"))\n",
    "\n",
    "            self.employees[eno] = Employee(eno, ename, edesig, esalary)\n",
    "            print(\"Employee added successfully!\")\n",
    "        except ValueError:\n",
    "            print(\"Invalid input. Please try again.\")\n",
    "\n",
    "    def get_employee_by_eno(self):\n",
    "        try:\n",
    "            eno = int(input(\"Enter Employee Number: \"))\n",
    "            if eno in self.employees:\n",
    "                emp = self.employees[eno]\n",
    "                print(f\"\\nEmployee Details:\\nEno: {emp.eno}\\nEname: {emp.ename}\\nEdesig: {emp.edesig}\\nEsalary: {emp.esalary}\")\n",
    "            else:\n",
    "                print(\"Employee not found.\")\n",
    "        except ValueError:\n",
    "            print(\"Invalid input. Please try again.\")\n",
    "\n",
    "    def display_all_employees(self):\n",
    "        if not self.employees:\n",
    "            print(\"No employees to display.\")\n",
    "            return\n",
    "\n",
    "        print(\"\\nAll Employee Details:\")\n",
    "        for emp in self.employees.values():\n",
    "            print(f\"Eno: {emp.eno}, Ename: {emp.ename}, Edesig: {emp.edesig}, Esalary: {emp.esalary}\")\n",
    "\n",
    "    def menu(self):\n",
    "        while True:\n",
    "            print(\"\\nMenu:\")\n",
    "            print(\"1. Add Employee\")\n",
    "            print(\"2. Get Employee by Eno\")\n",
    "            print(\"3. Display All Employees\")\n",
    "            print(\"4. Exit\")\n",
    "\n",
    "            try:\n",
    "                choice = int(input(\"Enter your choice: \"))\n",
    "                if choice == 1:\n",
    "                    self.add_employee()\n",
    "                elif choice == 2:\n",
    "                    self.get_employee_by_eno()\n",
    "                elif choice == 3:\n",
    "                    self.display_all_employees()\n",
    "                elif choice == 4:\n",
    "                    print(\"Exiting program. Goodbye!\")\n",
    "                    break\n",
    "                else:\n",
    "                    print(\"Invalid choice. Please select between 1 and 4.\")\n",
    "            except ValueError:\n",
    "                print(\"Invalid input. Please enter a number between 1 and 4.\")\n",
    "    \n",
    "emp_mgmt = EmployeeManagement()\n",
    "emp_mgmt.menu()"
   ]
  },
  {
   "cell_type": "code",
   "execution_count": 15,
   "metadata": {},
   "outputs": [
    {
     "name": "stdout",
     "output_type": "stream",
     "text": [
      "True\n",
      "A a y u s h\n"
     ]
    }
   ],
   "source": [
    "a = ['A','a','y','u','s','h']\n",
    "b = \"Aayush\"\n",
    "print(b.isalpha())\n",
    "print(\" \".join(b))"
   ]
  },
  {
   "cell_type": "code",
   "execution_count": null,
   "metadata": {},
   "outputs": [],
   "source": [
    "import itertools  as it\n",
    "\n",
    "def find_permutation(words):\n",
    "    lists_of_words = list(it.permutations(words))\n",
    "def find_substring(words, s):\n",
    "    permutated_words = find_permutation(words)\n",
    "\n",
    "letters = input()\n",
    "list_of_words =  input().split()\n",
    "result = find_substring(letters, list_of_words)"
   ]
  },
  {
   "cell_type": "code",
   "execution_count": 1,
   "metadata": {},
   "outputs": [
    {
     "name": "stdout",
     "output_type": "stream",
     "text": [
      "6\n"
     ]
    }
   ],
   "source": [
    "def out(x):\n",
    "    def inner():\n",
    "        return x+1\n",
    "    return inner\n",
    "closer = out(5)\n",
    "result = closer()\n",
    "print(result)"
   ]
  },
  {
   "cell_type": "code",
   "execution_count": 2,
   "metadata": {},
   "outputs": [
    {
     "name": "stdout",
     "output_type": "stream",
     "text": [
      "[-1, 2, -3, 4]\n"
     ]
    }
   ],
   "source": [
    "my_list = [1,2,3,4]\n",
    "res = [x if x%2 == 0 else -x for x in my_list]\n",
    "print(res)"
   ]
  },
  {
   "cell_type": "code",
   "execution_count": 3,
   "metadata": {},
   "outputs": [
    {
     "name": "stdout",
     "output_type": "stream",
     "text": [
      "[1, 2, 3]\n"
     ]
    }
   ],
   "source": [
    "def modify_list(my_list):\n",
    "    my_list[0] = 5\n",
    "original_list = [1,2,3]\n",
    "modify_list(original_list.copy())\n",
    "print(original_list)"
   ]
  },
  {
   "cell_type": "code",
   "execution_count": 4,
   "metadata": {},
   "outputs": [
    {
     "name": "stdout",
     "output_type": "stream",
     "text": [
      "((1, 2), {'a': 3, 'b': 4})\n"
     ]
    }
   ],
   "source": [
    "def some_function(*args, **kwargs):\n",
    "    return args, kwargs\n",
    "result = some_function(1,2,a=3,b=4)\n",
    "print(result)"
   ]
  },
  {
   "cell_type": "code",
   "execution_count": 5,
   "metadata": {},
   "outputs": [
    {
     "name": "stdout",
     "output_type": "stream",
     "text": [
      "[1, 2, 3, 4, 5] [1, 2, 3, 4, 5] None\n"
     ]
    }
   ],
   "source": [
    "x = [1,2,3]\n",
    "y = x+[4,5]\n",
    "z = x.extend([4,5])\n",
    "print(x,y,z)"
   ]
  },
  {
   "cell_type": "code",
   "execution_count": 6,
   "metadata": {},
   "outputs": [
    {
     "name": "stdout",
     "output_type": "stream",
     "text": [
      "17\n"
     ]
    }
   ],
   "source": [
    "def outer(x):\n",
    "    def inner_func():\n",
    "        return x+1\n",
    "    return inner_func\n",
    "\n",
    "closure1 = outer(5)\n",
    "closure2 = outer(10)\n",
    "print(closure1() + closure2())"
   ]
  },
  {
   "cell_type": "code",
   "execution_count": 7,
   "metadata": {},
   "outputs": [
    {
     "name": "stdout",
     "output_type": "stream",
     "text": [
      "0.5000000000000001\n"
     ]
    }
   ],
   "source": [
    "res = 1.0-0.1-0.1-0.1-0.1-0.1\n",
    "print(res)"
   ]
  },
  {
   "cell_type": "code",
   "execution_count": 8,
   "metadata": {},
   "outputs": [
    {
     "name": "stdout",
     "output_type": "stream",
     "text": [
      "range(0, 2) range(0, 2) range(0, 2) "
     ]
    }
   ],
   "source": [
    "a = range(2)\n",
    "b = range(2)\n",
    "c = range(2)\n",
    "p = len(a)\n",
    "q = len(b)\n",
    "r = len(c)\n",
    "for i in (a,b,c):\n",
    "    print(i,end=\" \")"
   ]
  },
  {
   "cell_type": "code",
   "execution_count": 9,
   "metadata": {},
   "outputs": [
    {
     "name": "stdout",
     "output_type": "stream",
     "text": [
      "1.0\n"
     ]
    }
   ],
   "source": [
    "print(True ** False / True)"
   ]
  },
  {
   "cell_type": "code",
   "execution_count": 10,
   "metadata": {},
   "outputs": [
    {
     "name": "stdout",
     "output_type": "stream",
     "text": [
      "21\n"
     ]
    }
   ],
   "source": [
    "a = int(input())\n",
    "b =  int(input())\n",
    "res = 1\n",
    "for i in range(b):\n",
    "    res += a\n",
    "print(res)"
   ]
  },
  {
   "cell_type": "code",
   "execution_count": 15,
   "metadata": {},
   "outputs": [
    {
     "name": "stdout",
     "output_type": "stream",
     "text": [
      "[7, 5, 2]\n"
     ]
    }
   ],
   "source": [
    "arr = [7,2,3,4,5,2]\n",
    "res = []\n",
    "cond = True\n",
    "for i in range(len(arr)):\n",
    "    for j in range(i+1,len(arr)):\n",
    "        if arr[j]> arr[i]:\n",
    "            cond = False\n",
    "            break\n",
    "        else:\n",
    "            cond = True\n",
    "    if cond:\n",
    "        res.append(arr[i])\n",
    "print(res)"
   ]
  },
  {
   "cell_type": "code",
   "execution_count": 3,
   "metadata": {},
   "outputs": [
    {
     "name": "stdout",
     "output_type": "stream",
     "text": [
      "0 is zeor\n",
      "Dinominator cannot be 0\n",
      "('division by zero',)\n",
      "Anyway. good try.\n"
     ]
    }
   ],
   "source": [
    "try:\n",
    "    a = int(input(\"Enter the first number : \"))\n",
    "    b = int(input('Enter the second number : '))\n",
    "    res = a/b\n",
    "    print(\"The result is \",res)\n",
    "except ZeroDivisionError as zde:\n",
    "    print(f\"{b} is zero\")\n",
    "    print(\"Dinominator cannot be 0\")\n",
    "    print(zde.args)\n",
    "finally:\n",
    "    print(\"Anyway. good try.\")"
   ]
  }
 ],
 "metadata": {
  "kernelspec": {
   "display_name": "base",
   "language": "python",
   "name": "python3"
  },
  "language_info": {
   "codemirror_mode": {
    "name": "ipython",
    "version": 3
   },
   "file_extension": ".py",
   "mimetype": "text/x-python",
   "name": "python",
   "nbconvert_exporter": "python",
   "pygments_lexer": "ipython3",
   "version": "3.12.7"
  }
 },
 "nbformat": 4,
 "nbformat_minor": 2
}
