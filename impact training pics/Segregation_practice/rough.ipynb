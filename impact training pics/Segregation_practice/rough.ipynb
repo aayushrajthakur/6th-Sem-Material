{
 "cells": [
  {
   "cell_type": "code",
   "execution_count": 3,
   "metadata": {},
   "outputs": [
    {
     "name": "stdout",
     "output_type": "stream",
     "text": [
      "HIA elloworldamayush\n"
     ]
    }
   ],
   "source": [
    "words = \"Hello world I am Aayush\".split()\n",
    "capi=  []\n",
    "small = []\n",
    "for word in words:\n",
    "    for i in range(len(word)):\n",
    "        if word[i].isupper():\n",
    "            capi.append(word[i])\n",
    "        else:\n",
    "            small.append(word[i])\n",
    "res = \"\".join(capi) +\" \"+ \"\".join(small)\n",
    "print(res)\n"
   ]
  },
  {
   "cell_type": "markdown",
   "metadata": {},
   "source": []
  },
  {
   "cell_type": "code",
   "execution_count": 3,
   "metadata": {},
   "outputs": [
    {
     "name": "stdout",
     "output_type": "stream",
     "text": [
      "0 is zeor\n",
      "Dinominator cannot be 0\n",
      "('division by zero',)\n",
      "Anyway. good try.\n"
     ]
    }
   ],
   "source": [
    "try:\n",
    "    a = int(input(\"Enter the first number : \"))\n",
    "    b = int(input('Enter the second number : '))\n",
    "    res = a/b\n",
    "    print(\"The result is \",res)\n",
    "except ZeroDivisionError as zde:\n",
    "    print(f\"{b} is zero\")\n",
    "    print(\"Dinominator cannot be 0\")\n",
    "    print(zde.args)\n",
    "finally:\n",
    "    print(\"Anyway. good try.\")"
   ]
  }
 ],
 "metadata": {
  "kernelspec": {
   "display_name": "base",
   "language": "python",
   "name": "python3"
  },
  "language_info": {
   "codemirror_mode": {
    "name": "ipython",
    "version": 3
   },
   "file_extension": ".py",
   "mimetype": "text/x-python",
   "name": "python",
   "nbconvert_exporter": "python",
   "pygments_lexer": "ipython3",
   "version": "3.12.7"
  }
 },
 "nbformat": 4,
 "nbformat_minor": 2
}
