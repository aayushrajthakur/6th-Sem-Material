{
 "cells": [
  {
   "cell_type": "code",
   "execution_count": 3,
   "metadata": {},
   "outputs": [
    {
     "name": "stdout",
     "output_type": "stream",
     "text": [
      "HIA elloworldamayush\n"
     ]
    }
   ],
   "source": [
    "words = \"Hello world I am Aayush\".split()\n",
    "capi=  []\n",
    "small = []\n",
    "for word in words:\n",
    "    for i in range(len(word)):\n",
    "        if word[i].isupper():\n",
    "            capi.append(word[i])\n",
    "        else:\n",
    "            small.append(word[i])\n",
    "res = \"\".join(capi) +\" \"+ \"\".join(small)\n",
    "print(res)\n"
   ]
  },
  {
   "cell_type": "code",
   "execution_count": 1,
   "metadata": {},
   "outputs": [
    {
     "name": "stdout",
     "output_type": "stream",
     "text": [
      "[23, 13, 56, 15]\n"
     ]
    }
   ],
   "source": []
  },
  {
   "cell_type": "code",
   "execution_count": 15,
   "metadata": {},
   "outputs": [
    {
     "name": "stdout",
     "output_type": "stream",
     "text": [
      "True\n",
      "A a y u s h\n"
     ]
    }
   ],
   "source": [
    "a = ['A','a','y','u','s','h']\n",
    "b = \"Aayush\"\n",
    "print(b.isalpha())\n",
    "print(\" \".join(b))"
   ]
  },
  {
   "cell_type": "code",
   "execution_count": null,
   "metadata": {},
   "outputs": [],
   "source": [
    "import itertools  as it\n",
    "\n",
    "def find_permutation(words):\n",
    "    lists_of_words = list(it.permutations(words))\n",
    "def find_substring(words, s):\n",
    "    permutated_words = find_permutation(words)\n",
    "\n",
    "letters = input()\n",
    "list_of_words =  input().split()\n",
    "result = find_substring(letters, list_of_words)"
   ]
  },
  {
   "cell_type": "code",
   "execution_count": 1,
   "metadata": {},
   "outputs": [
    {
     "name": "stdout",
     "output_type": "stream",
     "text": [
      "6\n"
     ]
    }
   ],
   "source": [
    "def out(x):\n",
    "    def inner():\n",
    "        return x+1\n",
    "    return inner\n",
    "closer = out(5)\n",
    "result = closer()\n",
    "print(result)"
   ]
  },
  {
   "cell_type": "code",
   "execution_count": 2,
   "metadata": {},
   "outputs": [
    {
     "name": "stdout",
     "output_type": "stream",
     "text": [
      "[-1, 2, -3, 4]\n"
     ]
    }
   ],
   "source": [
    "my_list = [1,2,3,4]\n",
    "res = [x if x%2 == 0 else -x for x in my_list]\n",
    "print(res)"
   ]
  },
  {
   "cell_type": "code",
   "execution_count": 3,
   "metadata": {},
   "outputs": [
    {
     "name": "stdout",
     "output_type": "stream",
     "text": [
      "[1, 2, 3]\n"
     ]
    }
   ],
   "source": [
    "def modify_list(my_list):\n",
    "    my_list[0] = 5\n",
    "original_list = [1,2,3]\n",
    "modify_list(original_list.copy())\n",
    "print(original_list)"
   ]
  },
  {
   "cell_type": "code",
   "execution_count": 4,
   "metadata": {},
   "outputs": [
    {
     "name": "stdout",
     "output_type": "stream",
     "text": [
      "((1, 2), {'a': 3, 'b': 4})\n"
     ]
    }
   ],
   "source": [
    "def some_function(*args, **kwargs):\n",
    "    return args, kwargs\n",
    "result = some_function(1,2,a=3,b=4)\n",
    "print(result)"
   ]
  },
  {
   "cell_type": "code",
   "execution_count": 5,
   "metadata": {},
   "outputs": [
    {
     "name": "stdout",
     "output_type": "stream",
     "text": [
      "[1, 2, 3, 4, 5] [1, 2, 3, 4, 5] None\n"
     ]
    }
   ],
   "source": [
    "x = [1,2,3]\n",
    "y = x+[4,5]\n",
    "z = x.extend([4,5])\n",
    "print(x,y,z)"
   ]
  },
  {
   "cell_type": "code",
   "execution_count": 6,
   "metadata": {},
   "outputs": [
    {
     "name": "stdout",
     "output_type": "stream",
     "text": [
      "17\n"
     ]
    }
   ],
   "source": [
    "def outer(x):\n",
    "    def inner_func():\n",
    "        return x+1\n",
    "    return inner_func\n",
    "\n",
    "closure1 = outer(5)\n",
    "closure2 = outer(10)\n",
    "print(closure1() + closure2())"
   ]
  },
  {
   "cell_type": "code",
   "execution_count": 7,
   "metadata": {},
   "outputs": [
    {
     "name": "stdout",
     "output_type": "stream",
     "text": [
      "0.5000000000000001\n"
     ]
    }
   ],
   "source": [
    "res = 1.0-0.1-0.1-0.1-0.1-0.1\n",
    "print(res)"
   ]
  },
  {
   "cell_type": "code",
   "execution_count": 8,
   "metadata": {},
   "outputs": [
    {
     "name": "stdout",
     "output_type": "stream",
     "text": [
      "range(0, 2) range(0, 2) range(0, 2) "
     ]
    }
   ],
   "source": [
    "a = range(2)\n",
    "b = range(2)\n",
    "c = range(2)\n",
    "p = len(a)\n",
    "q = len(b)\n",
    "r = len(c)\n",
    "for i in (a,b,c):\n",
    "    print(i,end=\" \")"
   ]
  },
  {
   "cell_type": "code",
   "execution_count": 9,
   "metadata": {},
   "outputs": [
    {
     "name": "stdout",
     "output_type": "stream",
     "text": [
      "1.0\n"
     ]
    }
   ],
   "source": [
    "print(True ** False / True)"
   ]
  },
  {
   "cell_type": "code",
   "execution_count": 10,
   "metadata": {},
   "outputs": [
    {
     "name": "stdout",
     "output_type": "stream",
     "text": [
      "21\n"
     ]
    }
   ],
   "source": [
    "a = int(input())\n",
    "b =  int(input())\n",
    "res = 1\n",
    "for i in range(b):\n",
    "    res += a\n",
    "print(res)"
   ]
  },
  {
   "cell_type": "code",
   "execution_count": 15,
   "metadata": {},
   "outputs": [
    {
     "name": "stdout",
     "output_type": "stream",
     "text": [
      "[7, 5, 2]\n"
     ]
    }
   ],
   "source": [
    "arr = [7,2,3,4,5,2]\n",
    "res = []\n",
    "cond = True\n",
    "for i in range(len(arr)):\n",
    "    for j in range(i+1,len(arr)):\n",
    "        if arr[j]> arr[i]:\n",
    "            cond = False\n",
    "            break\n",
    "        else:\n",
    "            cond = True\n",
    "    if cond:\n",
    "        res.append(arr[i])\n",
    "print(res)"
   ]
  },
  {
   "cell_type": "code",
   "execution_count": 3,
   "metadata": {},
   "outputs": [
    {
     "name": "stdout",
     "output_type": "stream",
     "text": [
      "0 is zeor\n",
      "Dinominator cannot be 0\n",
      "('division by zero',)\n",
      "Anyway. good try.\n"
     ]
    }
   ],
   "source": [
    "try:\n",
    "    a = int(input(\"Enter the first number : \"))\n",
    "    b = int(input('Enter the second number : '))\n",
    "    res = a/b\n",
    "    print(\"The result is \",res)\n",
    "except ZeroDivisionError as zde:\n",
    "    print(f\"{b} is zero\")\n",
    "    print(\"Dinominator cannot be 0\")\n",
    "    print(zde.args)\n",
    "finally:\n",
    "    print(\"Anyway. good try.\")"
   ]
  }
 ],
 "metadata": {
  "kernelspec": {
   "display_name": "Python 3",
   "language": "python",
   "name": "python3"
  },
  "language_info": {
   "codemirror_mode": {
    "name": "ipython",
    "version": 3
   },
   "file_extension": ".py",
   "mimetype": "text/x-python",
   "name": "python",
   "nbconvert_exporter": "python",
   "pygments_lexer": "ipython3",
   "version": "3.12.8"
  }
 },
 "nbformat": 4,
 "nbformat_minor": 2
}
