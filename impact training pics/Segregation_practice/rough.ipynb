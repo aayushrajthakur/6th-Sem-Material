{
 "cells": [
  {
   "cell_type": "code",
   "execution_count": 5,
   "metadata": {},
   "outputs": [],
   "source": [
    "adjacency_list = {  'A' : {'B':3, 'E':2},\n",
    "                    'B': {'A':3, 'C': 4, 'E':1},\n",
    "                    'C': {'B':4, 'F': 4, 'D': 6},\n",
    "                    'D': {'C':6, 'E': 2, 'F': 5},\n",
    "                    'E': {'A': 2, 'B': 1, 'D': 2},\n",
    "                    'F': {'C': 4, 'D': 5}}"
   ]
  },
  {
   "cell_type": "markdown",
   "metadata": {},
   "source": [
    "BFS in graph means traversing the each node with same degree. Our graph is stored in adjacency_list using dictionary. "
   ]
  },
  {
   "cell_type": "code",
   "execution_count": 22,
   "metadata": {},
   "outputs": [
    {
     "name": "stdout",
     "output_type": "stream",
     "text": [
      "A is visited.\n",
      "B is visited.\n",
      "E is visited.\n",
      "C is visited.\n",
      "D is visited.\n",
      "F is visited.\n"
     ]
    }
   ],
   "source": [
    "from collections import deque\n",
    "\n",
    "\n",
    "def bfs(adjacency_list, start):\n",
    "\n",
    "    d = deque([start])\n",
    "    visited = set()\n",
    "    visited.add(start)\n",
    "\n",
    "    while d:\n",
    "        curr = d.popleft()\n",
    "        print(f\"{curr} is visited.\")\n",
    "\n",
    "        for x in adjacency_list[curr].keys():\n",
    "            if x not in visited:\n",
    "                visited.add(x)\n",
    "                d.append(x)\n",
    "\n",
    "\n",
    "bfs(adjacency_list, 'A')"
   ]
  }
 ],
 "metadata": {
  "kernelspec": {
   "display_name": "base",
   "language": "python",
   "name": "python3"
  },
  "language_info": {
   "codemirror_mode": {
    "name": "ipython",
    "version": 3
   },
   "file_extension": ".py",
   "mimetype": "text/x-python",
   "name": "python",
   "nbconvert_exporter": "python",
   "pygments_lexer": "ipython3",
   "version": "3.12.7"
  }
 },
 "nbformat": 4,
 "nbformat_minor": 2
}
