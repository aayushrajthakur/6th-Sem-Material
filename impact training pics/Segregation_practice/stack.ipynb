{
 "cells": [
  {
   "cell_type": "code",
   "execution_count": 1,
   "metadata": {},
   "outputs": [
    {
     "name": "stdout",
     "output_type": "stream",
     "text": [
      "[12, 13, 14]\n"
     ]
    }
   ],
   "source": [
    "stack = []\n",
    "n = int(input(\"Enter the no. of element to be pushed : \"))\n",
    "for i in range(n):\n",
    "    stack.append(int(input(f\"Enter the {i+1}th element : \")))\n",
    "\n",
    "print(stack)"
   ]
  },
  {
   "cell_type": "code",
   "execution_count": 3,
   "metadata": {},
   "outputs": [
    {
     "name": "stdout",
     "output_type": "stream",
     "text": [
      "Balanced.\n"
     ]
    }
   ],
   "source": [
    "def checkBalanced(expr):\n",
    "    stack = []\n",
    "    for char in expr:\n",
    "        if char in ['(','{','[']:\n",
    "            stack.append(char)\n",
    "        else:\n",
    "            if not stack:\n",
    "                return False\n",
    "            curr_char = stack.pop()\n",
    "            if curr_char == '(':\n",
    "                if char != ')':\n",
    "                    return False\n",
    "            if curr_char == '{':\n",
    "                if char != '}':\n",
    "                    return False\n",
    "            if curr_char == '[':\n",
    "                if char != ']':\n",
    "                    return False\n",
    "    if stack:\n",
    "        return False\n",
    "    else:\n",
    "        return True\n",
    "    \n",
    "if(checkBalanced(\"(())\")):\n",
    "    print(\"Balanced.\")\n",
    "else:\n",
    "    print(\"Unbalanced.\")"
   ]
  },
  {
   "cell_type": "code",
   "execution_count": 7,
   "metadata": {},
   "outputs": [
    {
     "name": "stdout",
     "output_type": "stream",
     "text": [
      "skeeGrofskeeG\n"
     ]
    }
   ],
   "source": [
    "s = \"GeeksforGeeks\"\n",
    "stack = list(s)\n",
    "rev = \"\"\n",
    "while stack:\n",
    "    rev += stack.pop()\n",
    "print(rev)"
   ]
  },
  {
   "cell_type": "code",
   "execution_count": 12,
   "metadata": {},
   "outputs": [
    {
     "name": "stdout",
     "output_type": "stream",
     "text": [
      "16\n"
     ]
    }
   ],
   "source": [
    "def postfixClaculate(exprs):\n",
    "    stack = []\n",
    "    operators = {'+': lambda a,b : a+b,\n",
    "                 '-' : lambda a,b: a-b,\n",
    "                 '*': lambda a,b: a*b,\n",
    "                 '/': lambda a,b: a//b,\n",
    "                 '^': lambda a,b: a**b}\n",
    "    tokens = exprs.split(\" \")\n",
    "    for token in tokens:\n",
    "        if token.isdigit():\n",
    "            stack.append(int(token))\n",
    "        if token in operators:\n",
    "            op2 = (stack.pop())\n",
    "            op1 = (stack.pop())\n",
    "            res = operators[token](op1, op2)\n",
    "            stack.append(res)\n",
    "    \n",
    "    return stack.pop()\n",
    "\n",
    "print(postfixClaculate('2 3 5 + *'))\n",
    "    "
   ]
  },
  {
   "cell_type": "code",
   "execution_count": 4,
   "metadata": {},
   "outputs": [
    {
     "name": "stdout",
     "output_type": "stream",
     "text": [
      "['W', 'H'] ['o', 'o', 'l', 'l', 'l', 'e', 'd']\n"
     ]
    }
   ],
   "source": [
    "def selectionSort(arr):\n",
    "    for i in range(len(arr)):\n",
    "        min = i\n",
    "        for j in range(i+1,len(arr)):\n",
    "            if arr[j]> arr[min]:\n",
    "                min = j\n",
    "\n",
    "        arr[i], arr[min] = arr[min], arr[i]\n",
    "    return arr\n",
    "\n",
    "def seperateString(words):\n",
    "    lower = []\n",
    "    upper = []\n",
    "    for letter in words:\n",
    "        if 65 <= ord(letter) <= 90:\n",
    "            upper.append(letter)\n",
    "        elif 97  <= ord(letter) <= 113:\n",
    "            lower.append(letter)\n",
    "    upper = selectionSort(upper)\n",
    "    lower = selectionSort(lower)\n",
    "\n",
    "    return upper, lower\n",
    "\n",
    "words = input()\n",
    "result1, result2 = seperateString(words)\n",
    "print(result1, result2)\n",
    "\n"
   ]
  },
  {
   "cell_type": "code",
   "execution_count": null,
   "metadata": {},
   "outputs": [],
   "source": []
  }
 ],
 "metadata": {
  "kernelspec": {
   "display_name": "base",
   "language": "python",
   "name": "python3"
  },
  "language_info": {
   "codemirror_mode": {
    "name": "ipython",
    "version": 3
   },
   "file_extension": ".py",
   "mimetype": "text/x-python",
   "name": "python",
   "nbconvert_exporter": "python",
   "pygments_lexer": "ipython3",
   "version": "3.12.7"
  }
 },
 "nbformat": 4,
 "nbformat_minor": 2
}
